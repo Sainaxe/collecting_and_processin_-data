{
 "cells": [
  {
   "cell_type": "code",
   "execution_count": 1,
   "id": "52581378",
   "metadata": {},
   "outputs": [],
   "source": [
    "import requests\n",
    "import json"
   ]
  },
  {
   "cell_type": "code",
   "execution_count": 8,
   "id": "3d390e49",
   "metadata": {},
   "outputs": [],
   "source": [
    "url = 'https://api.github.com'\n",
    "user='sainaxe'"
   ]
  },
  {
   "cell_type": "code",
   "execution_count": 11,
   "id": "d1cf73e0",
   "metadata": {},
   "outputs": [],
   "source": [
    "r = requests.get(f'{url}/users/{user}/repos')"
   ]
  },
  {
   "cell_type": "code",
   "execution_count": 13,
   "id": "47a20162",
   "metadata": {},
   "outputs": [],
   "source": [
    "with open('data.json', 'w') as f:\n",
    "    json.dump(r.json(), f)"
   ]
  },
  {
   "cell_type": "code",
   "execution_count": 26,
   "id": "57ec2645",
   "metadata": {},
   "outputs": [
    {
     "name": "stdout",
     "output_type": "stream",
     "text": [
      "-Python-Data-Science\n",
      "collecting_and_processin_-data\n",
      "Denis_Ivanov\n",
      "mathematical_analysis\n",
      "My_SQL_DB\n",
      "python_for_data_science\n",
      "Python_fot_Data_Science-_continue\n",
      "Python_language_basics\n"
     ]
    }
   ],
   "source": [
    "#k=1\n",
    "for i in r.json():\n",
    "    print((i['name']))\n",
    "#    k +=1"
   ]
  },
  {
   "cell_type": "code",
   "execution_count": 28,
   "id": "55d0852d",
   "metadata": {},
   "outputs": [
    {
     "name": "stdout",
     "output_type": "stream",
     "text": [
      "https://samples.openweathermap.org/data/2.5/weather?q=Moskow&appid=b6907d289e10d714a6e88b30761fae22\n",
      "Получен результат\n",
      "{'coord': {'lon': -0.13, 'lat': 51.51}, 'weather': [{'id': 300, 'main': 'Drizzle', 'description': 'light intensity drizzle', 'icon': '09d'}], 'base': 'stations', 'main': {'temp': 280.32, 'pressure': 1012, 'humidity': 81, 'temp_min': 279.15, 'temp_max': 281.15}, 'visibility': 10000, 'wind': {'speed': 4.1, 'deg': 80}, 'clouds': {'all': 90}, 'dt': 1485789600, 'sys': {'type': 1, 'id': 5091, 'message': 0.0103, 'country': 'GB', 'sunrise': 1485762037, 'sunset': 1485794875}, 'id': 2643743, 'name': 'London', 'cod': 200}\n"
     ]
    }
   ],
   "source": [
    "import requests\n",
    "import time\n",
    "import json\n",
    "def get_data(service, appid,city):\n",
    "    while True:\n",
    "        time.sleep(1)\n",
    "        url = f'{service}?q={city}&appid={appid}'\n",
    "        response = requests.get(url)\n",
    "        if response.status_code == 200:\n",
    "            print(url)\n",
    "            break\n",
    "    return response.json()\n",
    "\n",
    "appid = 'b6907d289e10d714a6e88b30761fae22'\n",
    "service = 'https://samples.openweathermap.org/data/2.5/weather'\n",
    "city = 'Moskow'\n",
    "\n",
    "response = get_data(service, appid, city)\n",
    "\n",
    "print('Result is:')\n",
    "print(response)\n",
    "\n",
    "with open('1_2_weather.json', 'w') as f:\n",
    "    json_repo = json.dump(response, f)"
   ]
  },
  {
   "cell_type": "code",
   "execution_count": null,
   "id": "55112126",
   "metadata": {},
   "outputs": [],
   "source": []
  }
 ],
 "metadata": {
  "kernelspec": {
   "display_name": "Python 3",
   "language": "python",
   "name": "python3"
  },
  "language_info": {
   "codemirror_mode": {
    "name": "ipython",
    "version": 3
   },
   "file_extension": ".py",
   "mimetype": "text/x-python",
   "name": "python",
   "nbconvert_exporter": "python",
   "pygments_lexer": "ipython3",
   "version": "3.8.8"
  }
 },
 "nbformat": 4,
 "nbformat_minor": 5
}
